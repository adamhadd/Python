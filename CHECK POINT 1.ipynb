{
 "cells": [
  {
   "cell_type": "code",
   "execution_count": 11,
   "id": "682f266c",
   "metadata": {},
   "outputs": [],
   "source": [
    "import random"
   ]
  },
  {
   "cell_type": "code",
   "execution_count": 15,
   "id": "e12e4a9f",
   "metadata": {},
   "outputs": [],
   "source": [
    "x = random.randint(1,100)"
   ]
  },
  {
   "cell_type": "code",
   "execution_count": 16,
   "id": "a9b03883",
   "metadata": {},
   "outputs": [
    {
     "name": "stdout",
     "output_type": "stream",
     "text": [
      "Donnez moi un nombre 50\n",
      "encore moins\n",
      "Donnez moi un nombre 40\n",
      "encore moins\n",
      "Donnez moi un nombre 20\n",
      "encore plus\n",
      "Donnez moi un nombre 30\n",
      "encore plus\n",
      "Donnez moi un nombre 35\n",
      "encore moins\n",
      "Donnez moi un nombre 34\n",
      "encore moins\n",
      "Donnez moi un nombre 32\n",
      "encore plus\n",
      "Donnez moi un nombre 33\n",
      "bien jouer vous avez gagner\n"
     ]
    }
   ],
   "source": [
    "while True:\n",
    "    n = int(input('Donnez moi un nombre '))\n",
    "    if n < x:\n",
    "     print ('encore plus')\n",
    "    elif n > x:\n",
    "     print ('encore moins')\n",
    "    else:\n",
    "     print ('bien jouer vous avez gagner')\n",
    "     break\n",
    "        "
   ]
  },
  {
   "cell_type": "code",
   "execution_count": 4,
   "id": "44266af6",
   "metadata": {},
   "outputs": [
    {
     "name": "stdout",
     "output_type": "stream",
     "text": [
      "9\n"
     ]
    }
   ],
   "source": [
    "print(n)"
   ]
  },
  {
   "cell_type": "code",
   "execution_count": 10,
   "id": "10afc373",
   "metadata": {},
   "outputs": [
    {
     "data": {
      "text/plain": [
       "10"
      ]
     },
     "execution_count": 10,
     "metadata": {},
     "output_type": "execute_result"
    }
   ],
   "source": [
    "n+1"
   ]
  }
 ],
 "metadata": {
  "kernelspec": {
   "display_name": "Python 3 (ipykernel)",
   "language": "python",
   "name": "python3"
  },
  "language_info": {
   "codemirror_mode": {
    "name": "ipython",
    "version": 3
   },
   "file_extension": ".py",
   "mimetype": "text/x-python",
   "name": "python",
   "nbconvert_exporter": "python",
   "pygments_lexer": "ipython3",
   "version": "3.11.5"
  }
 },
 "nbformat": 4,
 "nbformat_minor": 5
}

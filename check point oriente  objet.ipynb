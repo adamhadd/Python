{
 "cells": [
  {
   "cell_type": "code",
   "execution_count": 3,
   "id": "924cdc64",
   "metadata": {},
   "outputs": [],
   "source": [
    "class point3D:\n",
    "    def __init__(self,x,y,z):\n",
    "        self.x = x\n",
    "        self.y = y\n",
    "        self.z = z\n",
    "my_point = point3D(1,2,3)\n"
   ]
  },
  {
   "cell_type": "code",
   "execution_count": 9,
   "id": "43548505",
   "metadata": {},
   "outputs": [
    {
     "name": "stdout",
     "output_type": "stream",
     "text": [
      "12\n",
      "14\n"
     ]
    }
   ],
   "source": [
    "class Rectangle:\n",
    "    def __init__(self,largeur,longueur):\n",
    "        self.largeur = largeur\n",
    "        self.longueur = longueur\n",
    "    def aire(self):\n",
    "        return self.longueur * self.largeur\n",
    "    def perimetre(self):\n",
    "        return (self.longueur + self.largeur) * 2\n",
    "\n",
    "my_rectangle = Rectangle(3,4)\n",
    "print(my_rectangle.aire())\n",
    "print(my_rectangle.perimetre())"
   ]
  },
  {
   "cell_type": "code",
   "execution_count": 12,
   "id": "b3c42513",
   "metadata": {},
   "outputs": [
    {
     "name": "stdout",
     "output_type": "stream",
     "text": [
      "3.141592653589793\n",
      "6.283185307179586\n"
     ]
    }
   ],
   "source": [
    "from math import pi\n",
    "class Cercle:\n",
    "    def __init__(self,centre,rayon):\n",
    "        self.centre = centre\n",
    "        self.rayon = rayon\n",
    "    def aire(self):\n",
    "        return self.rayon * self.rayon * pi\n",
    "    def perimetre(self):\n",
    "        return 2 * self.rayon * pi\n",
    "    \n",
    "my_cercle = Cercle((0, 0), 1)\n",
    "print(my_cercle.aire())\n",
    "print(my_cercle.perimetre())"
   ]
  },
  {
   "cell_type": "code",
   "execution_count": 14,
   "id": "feacddb2",
   "metadata": {},
   "outputs": [],
   "source": [
    "class Banque:\n",
    "    def __init__(self,solde):\n",
    "        self.solde = solde\n",
    "    def retrait(self,combien):\n",
    "        self.solde = self.solde - combien\n",
    "        return self.solde\n",
    "    def depot(self,combien):\n",
    "        self.solde = self.solde + combien\n",
    "        return self.solde\n",
    "         \n",
    "my_banque = Banque(100)\n",
    "print(my_banque.depot(combien = 67)) "
   ]
  },
  {
   "cell_type": "code",
   "execution_count": null,
   "id": "a7069bc5",
   "metadata": {},
   "outputs": [],
   "source": []
  }
 ],
 "metadata": {
  "kernelspec": {
   "display_name": "Python 3 (ipykernel)",
   "language": "python",
   "name": "python3"
  },
  "language_info": {
   "codemirror_mode": {
    "name": "ipython",
    "version": 3
   },
   "file_extension": ".py",
   "mimetype": "text/x-python",
   "name": "python",
   "nbconvert_exporter": "python",
   "pygments_lexer": "ipython3",
   "version": "3.11.5"
  }
 },
 "nbformat": 4,
 "nbformat_minor": 5
}

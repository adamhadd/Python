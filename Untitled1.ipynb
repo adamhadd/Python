{
 "cells": [
  {
   "cell_type": "code",
   "execution_count": 1,
   "id": "3d0b182a",
   "metadata": {},
   "outputs": [],
   "source": [
    "import numpy as np"
   ]
  },
  {
   "cell_type": "markdown",
   "id": "5d09a3be",
   "metadata": {},
   "source": [
    "\n",
    "#### n_eleve = int(input(\"donne moi le nombre d'eleve\"))\n",
    "n_matiere = int(input(\"donne moi le nombre de matiere\"))\n",
    "notes = np.zeros((n_eleve,n_matiere))"
   ]
  },
  {
   "cell_type": "code",
   "execution_count": 3,
   "id": "f25c86c4",
   "metadata": {},
   "outputs": [
    {
     "data": {
      "text/plain": [
       "0.0"
      ]
     },
     "execution_count": 3,
     "metadata": {},
     "output_type": "execute_result"
    }
   ],
   "source": [
    "notes[1,0]"
   ]
  },
  {
   "cell_type": "code",
   "execution_count": 4,
   "id": "b3f3fc01",
   "metadata": {},
   "outputs": [
    {
     "name": "stdout",
     "output_type": "stream",
     "text": [
      "donne la note de matiere 0 pour l'etudiant 090\n",
      "donne la note de matiere 1 pour l'etudiant 080\n",
      "donne la note de matiere 0 pour l'etudiant 170\n",
      "donne la note de matiere 1 pour l'etudiant 160\n",
      "donne la note de matiere 0 pour l'etudiant 25\n",
      "donne la note de matiere 1 pour l'etudiant 254\n"
     ]
    }
   ],
   "source": [
    "for i in range (n_eleve):\n",
    "    for j in range (n_matiere):\n",
    "        notes[i,j]=int(input(f\"donne la note de matiere {j} pour l'etudiant {i}\"))"
   ]
  },
  {
   "cell_type": "code",
   "execution_count": 5,
   "id": "a99bc0d3",
   "metadata": {},
   "outputs": [
    {
     "data": {
      "text/plain": [
       "array([[90., 80.],\n",
       "       [70., 60.],\n",
       "       [ 5., 54.]])"
      ]
     },
     "execution_count": 5,
     "metadata": {},
     "output_type": "execute_result"
    }
   ],
   "source": [
    "notes"
   ]
  },
  {
   "cell_type": "code",
   "execution_count": 6,
   "id": "a55ac101",
   "metadata": {},
   "outputs": [],
   "source": [
    "total = notes.sum(axis=1)"
   ]
  },
  {
   "cell_type": "code",
   "execution_count": 7,
   "id": "f0561ec6",
   "metadata": {},
   "outputs": [],
   "source": [
    "pourcentage = (total / (n_matiere * 100)) * 100"
   ]
  },
  {
   "cell_type": "code",
   "execution_count": 8,
   "id": "26a9d666",
   "metadata": {},
   "outputs": [
    {
     "data": {
      "text/plain": [
       "array([85. , 65. , 29.5])"
      ]
     },
     "execution_count": 8,
     "metadata": {},
     "output_type": "execute_result"
    }
   ],
   "source": [
    "pourcentage"
   ]
  },
  {
   "cell_type": "code",
   "execution_count": 9,
   "id": "147aea42",
   "metadata": {},
   "outputs": [
    {
     "name": "stdout",
     "output_type": "stream",
     "text": [
      "A\n",
      "B\n",
      "F\n"
     ]
    }
   ],
   "source": [
    "for p in pourcentage:\n",
    "    if p >= 90:\n",
    "        print (\"A+\")\n",
    "    elif p > 80:\n",
    "        print (\"A\")\n",
    "    elif p > 70:\n",
    "        print (\"B+\")\n",
    "    elif p > 60:\n",
    "        print (\"B\")\n",
    "    elif p > 50:\n",
    "        print (\"C\")\n",
    "    else :\n",
    "        print (\"F\")\n",
    "        "
   ]
  },
  {
   "cell_type": "code",
   "execution_count": null,
   "id": "5d3e5cda",
   "metadata": {},
   "outputs": [],
   "source": []
  },
  {
   "cell_type": "code",
   "execution_count": null,
   "id": "d940f4bb",
   "metadata": {},
   "outputs": [],
   "source": []
  },
  {
   "cell_type": "code",
   "execution_count": null,
   "id": "e910ba74",
   "metadata": {},
   "outputs": [],
   "source": []
  }
 ],
 "metadata": {
  "kernelspec": {
   "display_name": "Python 3 (ipykernel)",
   "language": "python",
   "name": "python3"
  },
  "language_info": {
   "codemirror_mode": {
    "name": "ipython",
    "version": 3
   },
   "file_extension": ".py",
   "mimetype": "text/x-python",
   "name": "python",
   "nbconvert_exporter": "python",
   "pygments_lexer": "ipython3",
   "version": "3.11.5"
  }
 },
 "nbformat": 4,
 "nbformat_minor": 5
}
